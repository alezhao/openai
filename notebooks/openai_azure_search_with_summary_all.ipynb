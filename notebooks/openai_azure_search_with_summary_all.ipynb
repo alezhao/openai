{
 "cells": [
  {
   "cell_type": "code",
   "execution_count": null,
   "id": "9e3839a6-9146-4f60-b74b-19abbc24278d",
   "metadata": {},
   "outputs": [],
   "source": [
    "import openai\n",
    "import requests\n",
    "import json\n",
    "import subprocess\n",
    "import uuid"
   ]
  },
  {
   "cell_type": "code",
   "execution_count": null,
   "id": "71747683",
   "metadata": {},
   "outputs": [],
   "source": [
    "# Set your azure OpenAI deployment name of complete model \n",
    "# text-davinci-003 corresponds to GPT-3.51\n",
    "COMPLETIONS_MODEL_ENGINE = \"text-davinci-003\""
   ]
  },
  {
   "cell_type": "code",
   "execution_count": null,
   "id": "43de526b",
   "metadata": {},
   "outputs": [],
   "source": [
    "# set your api key\n",
    "openai.api_key = \"<YOUR_OPENAI_API_KEY>\"\n",
    "# your endpoint should look like the following https://YOUR_RESOURCE_NAME.openai.azure.com/\n",
    "openai.api_base =  \"<YOUR_OPENAI_ENDPOINT>\" \n",
    "# this may change in the future\n",
    "openai.api_type = \"azure\"\n",
    "# this may change in the future\n",
    "openai.api_version = \"2022-12-01\" \n",
    "# set your azure search api key\n",
    "AZURE_SEARCH_API_KEY = \"<YOUR_AZURE_SEARCH_API_KEY>\"\n",
    "# set your azure search endpoint should look like the following https://YOUR_RESOURCE_NAME.search.windows.net/\n",
    "AZURE_SEARCH_ENDPOINT = \"<YOUR_AZURE_SEARCH_ENDPOINT>\"\n",
    "# set your azure search indexer name\n",
    "AZURE_SEARCH_INDEXER_NAME = \"<YOUR_AZURE_SEARCH_INDEXER_NAME>\""
   ]
  },
  {
   "cell_type": "code",
   "execution_count": null,
   "id": "b8c340f3",
   "metadata": {},
   "outputs": [],
   "source": [
    "# Details refer: https://platform.openai.com/docs/api-reference/completions/create\n",
    "COMPLETIONS_API_PARAMS = {\n",
    "    # Controls diversity via nucleus sampling: 0.5 means half of all likelihood-weighted options are considered\n",
    "    \"top_p\": 1,\n",
    "    # Controls randomness: lowering temperature results in less random completions. \n",
    "    # At zero the model becomes deterministic\n",
    "    \"temperature\": 0.0,\n",
    "    # How much to penalize new tokens based on their existing frequency in the text so far. \n",
    "    # Decreases the model's likelihood to repeat the same line verbatim\n",
    "    \"frequency_penalty\" : 0,\n",
    "    # How much to penalize new tokens based on whether they appear in the text so far. \n",
    "    # Increases the model's likelihood to talk about new topics\n",
    "    \"presence_penalty\" : 0,\n",
    "    # The maximum number of tokens to generate in the output. One token is roughly 4 characters\n",
    "    \"max_tokens\": 2000,\n",
    "    \"engine\": COMPLETIONS_MODEL_ENGINE,\n",
    "}"
   ]
  },
  {
   "cell_type": "code",
   "execution_count": null,
   "id": "ec420b41",
   "metadata": {},
   "outputs": [],
   "source": [
    "def construct_prompt_python_api(question: str, top: int = 0) -> str:\n",
    "\n",
    "    header =\"#write azure search python sdk with question below\"\n",
    "    header += \"\\n#question: \" + question + \"\"\n",
    "    if top > 0:\n",
    "        header += \"\\n#select top \"+str(top)\n",
    "    header += \"\\n#api-key: \"+ AZURE_SEARCH_API_KEY\n",
    "    header += \"\\n#azure_search_endpint: \" + AZURE_SEARCH_ENDPOINT\n",
    "    header += \"\\n#azure_search_indexer: \" + AZURE_SEARCH_INDEXER_NAME\n",
    "    header += \"\\n#api-version: 2021-04-30-Preview\"\n",
    "    header += \"\\n#API key is not permitted in the URI question string\"\n",
    "    header += \"\\n#return response.text\"\n",
    "    header += \"\\n\\n\"\n",
    "    return header\n",
    "\n",
    "def construct_prompt_url(question: str, top: int = 0) -> str:\n",
    "\n",
    "    header =\"#write a url about question below by azure search Lucene question language\"\n",
    "    header += \"\\n#question: \" + question + \"\"\n",
    "    if top > 0:\n",
    "        header += \"\\n#select top \"+str(top)\n",
    "    header += \"\\n#azure_search_endpint: \" + AZURE_SEARCH_ENDPOINT\n",
    "    header += \"\\n#azure_search_indexer: \" + AZURE_SEARCH_INDEXER_NAME\n",
    "    header += \"\\n#api-version: 2021-04-30-Preview\"\n",
    "    header += \"\\n#result: <construct the full url>\"\n",
    "    header += \"\\n\\n\"\n",
    "    return header\n",
    "\n",
    "def construct_prompt_from_question(question: str, prompt_from_search: str) -> str:\n",
    "    header = \"\"\"Answer the question as truthfully as possible using the provided context, and if the answer is not contained within the text below, say \"I don't know.\"\\n\\nContext:\\n\"\"\"\n",
    "    return header + \"\".join(prompt_from_search) + \"\\n\\n Q: \" + question + \"\\n A:\"\n",
    "\n",
    "def construct_prompt_from_question_summary(prompt_from_search: str) -> str:\n",
    "    header = \"\"\"please summary the context below.\"\\n\\nContext:\\n\"\"\"\n",
    "    return header + \"\".join(prompt_from_search) + \"\\n\""
   ]
  },
  {
   "cell_type": "code",
   "execution_count": null,
   "id": "d1c5a78a",
   "metadata": {},
   "outputs": [],
   "source": [
    "def generate_python_api_from_question(\n",
    "    question: str,\n",
    "    top: int = 0,\n",
    "    show_prompt: bool = False\n",
    ") -> str:\n",
    "    prompt = construct_prompt_python_api(\n",
    "        question,\n",
    "        top\n",
    "    )\n",
    "    \n",
    "    if show_prompt:\n",
    "        print(prompt)\n",
    "\n",
    "    response = openai.Completion.create(\n",
    "                prompt=prompt,\n",
    "                **COMPLETIONS_API_PARAMS\n",
    "            )\n",
    "\n",
    "    return response[\"choices\"][0][\"text\"].strip(\" \\n\")\n",
    "\n",
    "def question_search_content_by_python_api(filename: str, code: str) -> str:\n",
    "\n",
    "    with open(filename, \"w\") as f:\n",
    "        f.write(code)\n",
    "    \n",
    "    resp_py = json.loads(subprocess.getoutput(\"python3.9 \"+filename))\n",
    "    subprocess.getoutput(\"rm -rf \"+filename)\n",
    "    return resp_py\n",
    "\n",
    "def generate_url_from_question(\n",
    "    question: str,\n",
    "    top: int = 0,\n",
    "    show_prompt: bool = False\n",
    ") -> str:\n",
    "    prompt = construct_prompt_url(\n",
    "        question,\n",
    "        top\n",
    "    )\n",
    "    \n",
    "    if show_prompt:\n",
    "        print(prompt)\n",
    "\n",
    "    response = openai.Completion.create(\n",
    "                prompt=prompt,\n",
    "                **COMPLETIONS_API_PARAMS\n",
    "            )\n",
    "\n",
    "    return response[\"choices\"][0][\"text\"].strip(\" \\n\")\n",
    "\n",
    "def question_search_content_by_url(url: str) -> str:\n",
    "    # API version\n",
    "    api_version = '2021-04-30-Preview'\n",
    "\n",
    "    # API key\n",
    "    api_key = AZURE_SEARCH_API_KEY\n",
    "\n",
    "    # Set the authorization header\n",
    "    headers = {'api-key': api_key}\n",
    "    \n",
    "    response = requests.get(url, headers=headers)\n",
    "    response.raise_for_status()\n",
    "    return response.text\n",
    "\n",
    "def answer_question_from_search_context(\n",
    "    question: str,\n",
    "    prompt_from_search: str,\n",
    "    show_prompt: bool = False\n",
    ") -> str:\n",
    "    prompt = construct_prompt_from_question(\n",
    "        question,\n",
    "        prompt_from_search\n",
    "    )\n",
    "    \n",
    "    if show_prompt:\n",
    "        print(prompt)\n",
    "\n",
    "    response = openai.Completion.create(\n",
    "                prompt=prompt,\n",
    "                **COMPLETIONS_API_PARAMS\n",
    "            )\n",
    "\n",
    "    return response[\"choices\"][0][\"text\"].strip(\" \\n\")\n",
    "\n",
    "def summary_search_context(\n",
    "    prompt_from_search: str,\n",
    "    show_prompt: bool = False\n",
    ") -> str:\n",
    "    prompt = construct_prompt_from_question_summary(\n",
    "        prompt_from_search\n",
    "    )\n",
    "    \n",
    "    if show_prompt:\n",
    "        print(prompt)\n",
    "\n",
    "    response = openai.Completion.create(\n",
    "                prompt=prompt,\n",
    "                **COMPLETIONS_API_PARAMS\n",
    "            )\n",
    "\n",
    "    return response[\"choices\"][0][\"text\"].strip(\" \\n\")"
   ]
  },
  {
   "cell_type": "code",
   "execution_count": null,
   "id": "d1ef4069",
   "metadata": {},
   "outputs": [],
   "source": [
    "def query_search_content_by_generate_python_api(question: str, top: int = 0) -> str:\n",
    "    generate_response_python_api = generate_python_api_from_question(question, top, show_prompt=False)\n",
    "    print(generate_response_python_api)\n",
    "\n",
    "    # gererate \n",
    "    uid = uuid.uuid4()\n",
    "    generate_file_name = \"search_restful_\"+str(uid)+\".py\"\n",
    "\n",
    "    question_response_python_api = question_search_content_by_python_api(generate_file_name, generate_response_python_api)\n",
    "    final_response_python_api = question_response_python_api\n",
    "    return final_response_python_api"
   ]
  },
  {
   "cell_type": "code",
   "execution_count": null,
   "id": "d80f662e",
   "metadata": {},
   "outputs": [],
   "source": [
    "def query_search_content_by_generate_url(question: str, top: int = 0) -> str:\n",
    "    generate_response_url = generate_url_from_question(question, top, show_prompt=False)\n",
    "    print(generate_response_url)\n",
    "\n",
    "    # question search content by url\n",
    "    question_response_url = question_search_content_by_url(url=generate_response_url)\n",
    "    final_response_url = json.loads(question_response_url)\n",
    "    return final_response_url"
   ]
  },
  {
   "cell_type": "code",
   "execution_count": null,
   "id": "931644f6",
   "metadata": {},
   "outputs": [],
   "source": [
    "question = \"how people describe New York and location is USA\""
   ]
  },
  {
   "cell_type": "code",
   "execution_count": null,
   "id": "fc46056f",
   "metadata": {},
   "outputs": [],
   "source": [
    "final_response_python_api = query_search_content_by_generate_python_api(question, top=2)"
   ]
  },
  {
   "cell_type": "code",
   "execution_count": null,
   "id": "41720f93",
   "metadata": {},
   "outputs": [],
   "source": [
    "prompt_from_search_python_api = \"\"\n",
    "for i in final_response_python_api[\"value\"]:\n",
    "    prompt_from_search_python_api += i[\"merged_text\"] + \"\\n\""
   ]
  },
  {
   "cell_type": "code",
   "execution_count": null,
   "id": "6ade3f47",
   "metadata": {},
   "outputs": [],
   "source": [
    "answer_question_from_search_context(question, prompt_from_search_python_api, show_prompt=True)"
   ]
  },
  {
   "cell_type": "code",
   "execution_count": null,
   "id": "16bc0423",
   "metadata": {},
   "outputs": [],
   "source": [
    "final_response_url = query_search_content_by_generate_url(question, top=2)"
   ]
  },
  {
   "cell_type": "code",
   "execution_count": null,
   "id": "854dc24c",
   "metadata": {},
   "outputs": [],
   "source": [
    "prompt_from_search_url = \"\"\n",
    "for i in final_response_url[\"value\"]:\n",
    "    prompt_from_search_url += i[\"merged_text\"] + \"\\n\""
   ]
  },
  {
   "cell_type": "code",
   "execution_count": null,
   "id": "9fafe8e2",
   "metadata": {},
   "outputs": [],
   "source": [
    "answer_question_from_search_context(question, prompt_from_search_url, show_prompt=True)"
   ]
  },
  {
   "cell_type": "code",
   "execution_count": null,
   "id": "495adcc0",
   "metadata": {},
   "outputs": [],
   "source": [
    "final_response_python_api_summary = query_search_content_by_generate_python_api(question)"
   ]
  },
  {
   "cell_type": "code",
   "execution_count": null,
   "id": "1b4f8584",
   "metadata": {},
   "outputs": [],
   "source": [
    "for i in final_response_python_api_summary[\"value\"]:\n",
    "    i[\"merged_text\"] = summary_search_context(i[\"merged_text\"])\n",
    "    del i[\"content\"]\n",
    "    del i[\"entities\"]\n",
    "\n",
    "final_response_python_api_summary"
   ]
  }
 ],
 "metadata": {
  "kernelspec": {
   "display_name": "Python 3",
   "language": "python",
   "name": "python3"
  },
  "language_info": {
   "codemirror_mode": {
    "name": "ipython",
    "version": 3
   },
   "file_extension": ".py",
   "mimetype": "text/x-python",
   "name": "python",
   "nbconvert_exporter": "python",
   "pygments_lexer": "ipython3",
   "version": "3.10.2"
  },
  "vscode": {
   "interpreter": {
    "hash": "c9c3b609469d25d1aac2c871cf98e525cf19c42915ce6a9a380b0866c8d2e111"
   }
  }
 },
 "nbformat": 4,
 "nbformat_minor": 5
}
